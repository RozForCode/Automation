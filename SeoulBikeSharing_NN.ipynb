{
  "nbformat": 4,
  "nbformat_minor": 0,
  "metadata": {
    "colab": {
      "provenance": [],
      "authorship_tag": "ABX9TyNnL701aQ5YaoZZMAnzzwV7",
      "include_colab_link": true
    },
    "kernelspec": {
      "name": "python3",
      "display_name": "Python 3"
    },
    "language_info": {
      "name": "python"
    }
  },
  "cells": [
    {
      "cell_type": "markdown",
      "metadata": {
        "id": "view-in-github",
        "colab_type": "text"
      },
      "source": [
        "<a href=\"https://colab.research.google.com/github/RozForCode/Automation/blob/main/SeoulBikeSharing_NN.ipynb\" target=\"_parent\"><img src=\"https://colab.research.google.com/assets/colab-badge.svg\" alt=\"Open In Colab\"/></a>"
      ]
    },
    {
      "cell_type": "code",
      "execution_count": 1,
      "metadata": {
        "id": "aALIBCCBCDJd"
      },
      "outputs": [],
      "source": [
        "import numpy as np\n",
        "import pandas as pd\n",
        "import matplotlib.pyplot as plt\n"
      ]
    },
    {
      "cell_type": "code",
      "source": [
        "from imblearn.over_sampling import RandomOverSampler\n",
        "import copy\n",
        "import seaborn as sns\n",
        "import tensorflow as tf\n",
        "from sklearn.linear_model import LinearRegression"
      ],
      "metadata": {
        "id": "rK3QGmWxsSwg"
      },
      "execution_count": 4,
      "outputs": []
    },
    {
      "cell_type": "code",
      "source": [
        "dataset_cols = [\"bike_count\",\"hour\",\"temp\",\"humidity\",\"wind\",\"visibilitiy\",\"dew_pt_temp\",\"radiation\",\"rain\",\"snow\",\"functional\"]"
      ],
      "metadata": {
        "id": "nyQvB-1nssz3"
      },
      "execution_count": 5,
      "outputs": []
    },
    {
      "cell_type": "code",
      "source": [
        "df = pd.read_csv('SeoulBikeData.csv').drop('Data','Holiday','Seasons', axis=1)\n",
        "df.columns = dataset_cols\n",
        "df[\"functional\"] = [df[\"functional\"]=='Yes'].astype(int)\n",
        "df.drop('Hours')"
      ],
      "metadata": {
        "id": "nSZ3ZLf-tlJK"
      },
      "execution_count": null,
      "outputs": []
    },
    {
      "cell_type": "code",
      "source": [
        "for thing in df.columns[1:]:\n",
        "  plt.scatter(df[thing], df['bike_count'])\n",
        "  plt.title(thing)\n",
        "  plt.ylabel(\"Bike count at noon\")\n",
        "  plt.xlabel(thing)\n",
        "#from this we'll see the ones that don't provide any relationship and drop them from df"
      ],
      "metadata": {
        "id": "f2uTosxKuJ47"
      },
      "execution_count": null,
      "outputs": []
    },
    {
      "cell_type": "code",
      "source": [
        "df.drop('columns that provide no relationship', axis=1)"
      ],
      "metadata": {
        "id": "yocc15KQivSu"
      },
      "execution_count": null,
      "outputs": []
    },
    {
      "cell_type": "code",
      "source": [
        "#now split into training, validation and test dataset\n",
        "train, test, val = np.split(df.sample(frac=1), int(0.6*len(df)), int(0.8*len(df)))"
      ],
      "metadata": {
        "id": "AdypaiEIikwl"
      },
      "execution_count": null,
      "outputs": []
    },
    {
      "cell_type": "code",
      "source": [
        "def get_xy(dataframe, y_label, x_label=None):\n",
        "  dataf = copy.deepcopy(df)\n",
        "  if not x_label:\n",
        "    x = dataf( c for c in dataf.columns if c != y_label).values\n",
        "  else:\n",
        "    if len(x_label) == 1:\n",
        "      x = dataf[x_label[0]].values.reshape(-1,1)\n",
        "    else:\n",
        "      x = dataf[x_label].values\n",
        "  y = dataf[y_label].values.reshape(-1,1)\n",
        "  return np.hstack((x,y)) , x, y"
      ],
      "metadata": {
        "id": "glUlqgC7jsEK"
      },
      "execution_count": null,
      "outputs": []
    },
    {
      "cell_type": "code",
      "source": [
        "full , x_train, y_train = get_xy(train, 'bike_count',x_label=\"temp\")\n",
        "full , x_test, y_test = get_xy(test, 'bike_count',x_label=\"temp\")\n",
        "full , x_val, y_val = get_xy(val, 'bike_count',x_label=\"temp\")"
      ],
      "metadata": {
        "id": "ZXXtqKkijsHE"
      },
      "execution_count": null,
      "outputs": []
    },
    {
      "cell_type": "code",
      "source": [
        "temp_reg1 = LinearRegression()\n",
        "temp_reg1.fit(x_train, y_train)\n",
        "print(temp_reg1.coef_ , temp_reg1.intercept_)"
      ],
      "metadata": {
        "id": "lxRTX7i8mFhK"
      },
      "execution_count": null,
      "outputs": []
    },
    {
      "cell_type": "code",
      "source": [
        "temp_reg1.score(x_test, y_test)\n",
        "#we can use plt to plot this singular Linear Regression"
      ],
      "metadata": {
        "id": "8QBBgUH0jsKg"
      },
      "execution_count": null,
      "outputs": []
    },
    {
      "cell_type": "markdown",
      "source": [
        "#multiple linear regression"
      ],
      "metadata": {
        "id": "ze1vK0BYnLCL"
      }
    },
    {
      "cell_type": "code",
      "source": [
        "all , x_train_all, y_train_all = get_xy(train, 'bike_count',df.columns[1:])\n",
        "all , x_test_all, y_test_all = get_xy(test, 'bike_count',df.columns[1:])\n",
        "all , x_val_all, y_val_all = get_xy(val, 'bike_count',df.columns[1:])"
      ],
      "metadata": {
        "id": "tL5hqWSHnJgj"
      },
      "execution_count": null,
      "outputs": []
    },
    {
      "cell_type": "code",
      "source": [
        "all_reg = LinearRegression()\n",
        "all_reg.fit(x_train_all, y_train_all)"
      ],
      "metadata": {
        "id": "TKNlc5MLnIuY"
      },
      "execution_count": null,
      "outputs": []
    },
    {
      "cell_type": "code",
      "source": [],
      "metadata": {
        "id": "RJ54C70snIhW"
      },
      "execution_count": null,
      "outputs": []
    },
    {
      "cell_type": "markdown",
      "source": [
        "# reg with neural network"
      ],
      "metadata": {
        "id": "v4QReaMaBcbt"
      }
    },
    {
      "cell_type": "code",
      "source": [
        "temp_normalizer = tf.keras.layers.Normalization(input_shape=(1,), axis=None)#shape =1 cause singular with temp only\n",
        "temp_normalizer.adapt(x_train.reshape(-1))"
      ],
      "metadata": {
        "id": "OAmqz-zHnIVi"
      },
      "execution_count": null,
      "outputs": []
    },
    {
      "cell_type": "code",
      "source": [
        "temp_nn_modol = tf.keras.Sequential([\n",
        "    temp_normalizer,\n",
        "    tf.keras.layers.Dense(1)\n",
        "])"
      ],
      "metadata": {
        "id": "DrJwZUqxDQsn"
      },
      "execution_count": null,
      "outputs": []
    },
    {
      "cell_type": "code",
      "source": [
        "temp_nn_model.compile(optimizer = tf.keras.optimizer.Adam(learning_rate = 0.1) , loss= 'mean_sqaured_error' )"
      ],
      "metadata": {
        "id": "YYJMGHUfnH7y"
      },
      "execution_count": null,
      "outputs": []
    },
    {
      "cell_type": "code",
      "source": [
        "history = temp_nn_model.fit(x_train.reshape(-1), y_train, verbose = 0, epochs = 1000, validation_data=(x_val, y_val))\n",
        "# use plt to see the model"
      ],
      "metadata": {
        "id": "BnpBT2nFDQiS"
      },
      "execution_count": null,
      "outputs": []
    },
    {
      "cell_type": "code",
      "source": [],
      "metadata": {
        "id": "QzdRCUGADQvU"
      },
      "execution_count": null,
      "outputs": []
    },
    {
      "cell_type": "code",
      "source": [],
      "metadata": {
        "id": "cL_C6wycDQyu"
      },
      "execution_count": null,
      "outputs": []
    }
  ]
}